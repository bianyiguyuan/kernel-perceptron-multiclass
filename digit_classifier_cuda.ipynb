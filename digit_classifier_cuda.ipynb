{
 "cells": [
  {
   "cell_type": "code",
   "execution_count": 4,
   "metadata": {},
   "outputs": [
    {
     "ename": "ModuleNotFoundError",
     "evalue": "No module named 'cupy'",
     "output_type": "error",
     "traceback": [
      "\u001b[0;31m---------------------------------------------------------------------------\u001b[0m",
      "\u001b[0;31mModuleNotFoundError\u001b[0m                       Traceback (most recent call last)",
      "Cell \u001b[0;32mIn[4], line 1\u001b[0m\n\u001b[0;32m----> 1\u001b[0m \u001b[38;5;28;01mimport\u001b[39;00m \u001b[38;5;21;01mcupy\u001b[39;00m \u001b[38;5;28;01mas\u001b[39;00m \u001b[38;5;21;01mcp\u001b[39;00m\n\u001b[1;32m      2\u001b[0m \u001b[38;5;28;01mimport\u001b[39;00m \u001b[38;5;21;01mmatplotlib\u001b[39;00m\u001b[38;5;21;01m.\u001b[39;00m\u001b[38;5;21;01mpyplot\u001b[39;00m \u001b[38;5;28;01mas\u001b[39;00m \u001b[38;5;21;01mplt\u001b[39;00m\n\u001b[1;32m      3\u001b[0m \u001b[38;5;28;01mfrom\u001b[39;00m \u001b[38;5;21;01mrandom\u001b[39;00m \u001b[38;5;28;01mimport\u001b[39;00m shuffle\n",
      "\u001b[0;31mModuleNotFoundError\u001b[0m: No module named 'cupy'"
     ]
    }
   ],
   "source": [
    "import cupy as cp\n",
    "import matplotlib.pyplot as plt\n",
    "from random import shuffle"
   ]
  },
  {
   "cell_type": "code",
   "execution_count": null,
   "metadata": {},
   "outputs": [],
   "source": [
    "def load_data(path):\n",
    "    data = cp.loadtxt(path)\n",
    "    labels = data[:, 0].astype(int)\n",
    "    features = data[:, 1:]\n",
    "    features = (features - cp.mean(features, axis=0)) / cp.std(features, axis=0)\n",
    "    return features, labels"
   ]
  },
  {
   "cell_type": "code",
   "execution_count": null,
   "metadata": {},
   "outputs": [],
   "source": [
    "def visualize_digit(X, y):\n",
    "    img_indices = [np.argwhere(y == i)[7, 0] for i in range(10)]  \n",
    "    plt.figure(figsize=(10, 3))\n",
    "    for i in range(10):\n",
    "        plt.subplot(2, 5, i + 1)\n",
    "        img_index = img_indices[i]\n",
    "        plt.imshow(X[img_index, :].reshape(16, 16), cmap='plasma') \n",
    "        plt.axis('off')\n",
    "    plt.tight_layout()\n",
    "    plt.show()"
   ]
  },
  {
   "cell_type": "code",
   "execution_count": null,
   "metadata": {},
   "outputs": [],
   "source": [
    "def train_test_split(X, y, test_size=0.2, random_state=None):\n",
    "  \n",
    "    n_samples = len(X)\n",
    "    if random_state is not None:\n",
    "        rng = np.random.default_rng(random_state)  \n",
    "        indices = rng.permutation(n_samples) \n",
    "    else:\n",
    "        indices = np.random.permutation(n_samples)  \n",
    "\n",
    "    split_idx = int(n_samples * (1 - test_size))\n",
    "    train_indices = indices[:split_idx]\n",
    "    test_indices = indices[split_idx:]\n",
    "\n",
    "    X_train, X_test = X[train_indices], X[test_indices]\n",
    "    y_train, y_test = y[train_indices], y[test_indices]\n",
    "\n",
    "    return X_train, X_test, y_train, y_test"
   ]
  },
  {
   "cell_type": "code",
   "execution_count": null,
   "metadata": {},
   "outputs": [],
   "source": [
    "class KernelPerceptron:\n",
    "    def __init__(self, kernel):\n",
    "        self.kernel = kernel\n",
    "        self.alpha = []\n",
    "        self.support_vectors = []\n",
    "        self.support_labels = []\n",
    "    \n",
    "    def fit(self, X, y, epochs=3):\n",
    "        n_samples = len(y)\n",
    "        self.alpha = np.zeros(n_samples)\n",
    "        for _ in range(epochs): # repeat whole set\n",
    "            for t in range(n_samples):\n",
    "                prediction = np.sign(np.sum(self.alpha*y*self.kernel(X, X[t])))\n",
    "                if prediction != y[t]:\n",
    "                    self.alpha[t] = y[t]\n",
    "                    if X[t].tolist() not in [sv.tolist() for sv in self.support_vectors]:\n",
    "                        self.support_vectors.append(X[t]) # item not in this class\n",
    "                        self.support_labels.append(y[t]) # otherwise as 0\n",
    "        \n",
    "\n",
    "    def predict(self, X):\n",
    "        predictions = []\n",
    "        for x in X:\n",
    "            score = np.sum(\n",
    "                [\n",
    "                    alpha * label * self.kernel(support_vector, x)\n",
    "                    for alpha, support_vector, label in zip(\n",
    "                        self.alpha, self.support_vectors, self.support_labels\n",
    "                    )\n",
    "                ]\n",
    "            )\n",
    "            predictions.append(np.sign(score))\n",
    "        return np.array(predictions)"
   ]
  },
  {
   "cell_type": "code",
   "execution_count": null,
   "metadata": {},
   "outputs": [],
   "source": [
    "def polynomial_kernel(X, Y, degree=3):\n",
    "    return np.dot(X, Y.T)**degree\n",
    "\n",
    "def gaussian_kernel(X, Y, sigma=1.0):\n",
    "    X_norm = np.sum(X**2, axis=1).reshape(-1, 1)  \n",
    "    Y_norm = np.sum(Y**2, axis=1).reshape(1, -1)  \n",
    "    dist_squared = X_norm + Y_norm - 2 * np.dot(X, Y.T)  \n",
    "    return  np.exp(-dist_squared / (2 * sigma**2))  "
   ]
  },
  {
   "cell_type": "code",
   "execution_count": null,
   "metadata": {},
   "outputs": [],
   "source": [
    "def one_vs_rest(X_train, y_train, X_test, k, kernel, epochs=3):\n",
    "    classifiers = []\n",
    "    for c in range(k):\n",
    "        y_binary = np.where(y_train == c, 1, -1) # change the original tag into binary\n",
    "        classifier = KernelPerceptron(kernel)\n",
    "        classifier.fit(X_train, y_binary, epochs=epochs)\n",
    "        classifiers.append(classifier)\n",
    "\n",
    "    confidence_scores = np.array([clf.predict(X_test) for clf in classifiers])\n",
    "    predictions = np.argmax(confidence_scores, axis=0)\n",
    "    return predictions"
   ]
  },
  {
   "cell_type": "code",
   "execution_count": null,
   "metadata": {},
   "outputs": [
    {
     "data": {
      "image/png": "[encoded data removed]",
      "text/plain": [
       "<Figure size 1000x300 with 10 Axes>"
      ]
     },
     "metadata": {},
     "output_type": "display_data"
    },
    {
     "name": "stdout",
     "output_type": "stream",
     "text": [
      "Run 1/20...\n",
      "Training with polynomial degree 1 (1/7)...\n"
     ]
    }
   ],
   "source": [
    "\n",
    "def q3_experiment(path=\"data/zipcombo.dat.txt\", \n",
    "                  degrees=[1, 2, 3, 4, 5, 6, 7], \n",
    "                  runs=20, \n",
    "                  epochs=3):\n",
    "    \n",
    "    X, y = load_data(path)\n",
    "    visualize_digit(X, y)\n",
    "\n",
    "    n_degrees = len(degrees)\n",
    "    num_classes = len(np.unique(y))\n",
    "\n",
    "    train_errors = np.zeros((runs, n_degrees))\n",
    "    test_errors = np.zeros((runs, n_degrees))\n",
    "\n",
    "    for run in range(runs):\n",
    "        print(f\"Run {run + 1}/{runs}...\")\n",
    "        X_train, X_test, y_train, y_test = train_test_split(X, y, test_size=0.2, random_state=run)\n",
    "        \n",
    "        for idx, degree in enumerate(degrees):\n",
    "            print(f\"Training with polynomial degree {degree} ({idx + 1}/{n_degrees})...\")\n",
    "            kernel = lambda X, Y: polynomial_kernel(X, Y, degree)\n",
    "            perceptron = KernelPerceptron(kernel)\n",
    "            \n",
    "            # Train the perceptron\n",
    "            perceptron.fit(X_train, y_train, epochs=epochs)\n",
    "            print(f\"Finished training for degree {degree}.\")\n",
    "            \n",
    "            # Predict and compute errors\n",
    "            y_train_pred = one_vs_rest(X_train, y_train, X_train, num_classes, kernel, epochs=epochs)\n",
    "            y_test_pred = one_vs_rest(X_train, y_train, X_test, num_classes, kernel, epochs=epochs)\n",
    "            \n",
    "            train_errors[run, idx] = np.mean(y_train_pred != y_train)\n",
    "            test_errors[run, idx] = np.mean(y_test_pred != y_test)\n",
    "\n",
    "            print(f\"Train Error={train_errors[run, idx]:.10f}, Test Error={test_errors[run, idx]:.10f}.\")\n",
    "    \n",
    "    \n",
    "    train_mean = np.mean(train_errors, axis=0)\n",
    "    train_std = np.std(train_errors, axis=0)\n",
    "    test_mean = np.mean(test_errors, axis=0)\n",
    "    test_std = np.std(test_errors, axis=0)\n",
    "\n",
    "    print(\"Train Error (Mean ± Std):\")\n",
    "    for d, mean, std in zip(degrees, train_mean, train_std):\n",
    "        print(f\"d={d}: {mean:.10f} ± {std:.10f}\")\n",
    "    \n",
    "    print(\"\\nTest Error (Mean ± Std):\")\n",
    "    for d, mean, std in zip(degrees, test_mean, test_std):\n",
    "        print(f\"d={d}: {mean:.10f} ± {std:.10f}\")\n",
    "    \n",
    "    return \n",
    "\n",
    "if __name__ == \"__main__\":\n",
    "    q3_experiment()"
   ]
  }
 ],
 "metadata": {
  "kernelspec": {
   "display_name": "comp0078",
   "language": "python",
   "name": "python3"
  },
  "language_info": {
   "codemirror_mode": {
    "name": "ipython",
    "version": 3
   },
   "file_extension": ".py",
   "mimetype": "text/x-python",
   "name": "python",
   "nbconvert_exporter": "python",
   "pygments_lexer": "ipython3",
   "version": "3.10.12"
  }
 },
 "nbformat": 4,
 "nbformat_minor": 2
}
